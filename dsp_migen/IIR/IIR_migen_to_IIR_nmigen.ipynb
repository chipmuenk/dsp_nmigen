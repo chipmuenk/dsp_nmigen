{
 "cells": [
  {
   "cell_type": "markdown",
   "metadata": {},
   "source": [
    "# IIR migen to IIR nmigen"
   ]
  },
  {
   "cell_type": "markdown",
   "metadata": {},
   "source": [
    "In this notebook, the conversion from migen to nmigen will be done.<br>\n",
    "The basic file is the last one, displayed in the FIR_to_IIR.ipynb notebook<br>\n",
    "At first some Includes should be changed: <br>\n",
    "The other inputs are just copied."
   ]
  },
  {
   "cell_type": "code",
   "execution_count": 14,
   "metadata": {},
   "outputs": [],
   "source": [
    "from nmigen import *\n",
    "from nmigen.back.pysim import *\n",
    "from nmigen.cli import main\n",
    "#from migen import *\n",
    "#from migen.fhdl import verilog\n",
    "\n",
    "from functools import reduce\n",
    "from operator import add\n",
    "\n",
    "from math import cos, pi\n",
    "from scipy import signal\n",
    "import matplotlib.pyplot as plt\n",
    "import numpy as np\n",
    "import numpy\n",
    "from scipy.signal import chirp\n",
    "from scipy import signal\n",
    "import scipy.signal as sig\n",
    "import math"
   ]
  },
  {
   "cell_type": "markdown",
   "metadata": {},
   "source": [
    "Then copy an paste the functions \"minExp\" and \"Multiplyer\" as well as the filter definition:"
   ]
  },
  {
   "cell_type": "code",
   "execution_count": 15,
   "metadata": {},
   "outputs": [],
   "source": [
    "### Create the filter #######################\n",
    "frequency = 100\n",
    "Fs = 4800           #Sample Frequ\n",
    "samples = 4800       #Number of Samples\n",
    "f = 100             #Sig gen Frequ\n",
    "n = 1               #Order of Filter\n",
    "rs = 30             #only for Cheby\n",
    "fc = 10            #Cut Frequ\n",
    "w_c = 2*fc/Fs       #Digital Frequ -> 0 - 0.5\n",
    "Type = \"int16\"      #Type of the internal calc\n",
    "wsize = 16          #Wordlength\n",
    "#########################################################\n",
    "\n",
    "### Find the smallest possible Exponent out of coefa and coefb ###########\n",
    "def minExp (lista,listb,maxsize):\n",
    "    if maxsize == \"int16\":\n",
    "        maxsize = 16\n",
    "    elif maxsize == \"int32\":\n",
    "        maxsize = 32\n",
    "    elif maxsize == \"int64\":\n",
    "        maxsize = 64\n",
    "    else:\n",
    "        raise TypeError(\"The Exponent must be an Integer\")\n",
    "    lista =  [abs(ele) for ele in lista]                            #Generates a List of absolute Values\n",
    "    listb =  [abs(ele) for ele in listb]                            #Generates a List of absolute Values\n",
    "    minall = min(min(lista), min(listb))                            #find the minimum of the two new lists\n",
    "    maxall = max(max(lista), max(listb))                            #find the maximum of the two new lists\n",
    "    Expmin = int(round(0.49 + math.log(1/minall, 2)))               #find the minimum Exponent\n",
    "    Expmax = int(round(math.log((2**(maxsize-1))/maxall, 2)))       #find the maximum Exponent\n",
    "    print(print(\"Expmin = \\n\", Expmin))\n",
    "    print(print(\"Expmax = \\n\", Expmax))\n",
    "    if Expmin > Expmax:\n",
    "        raise OverflowError(\"Filter is not possible, enlarge the internal Register or define the specs in another way\")\n",
    "    return Expmin,Expmax                                            #return this two found Exponents\n",
    "#########################################################################\n",
    "\n",
    "### Used to do test for the needed Exponent##############################\n",
    "def Multiplyer (coefa,coefb,Exponent):\n",
    "    print(coefa,coefb)\n",
    "    for c in range(len(coefa)):\n",
    "        coefa[c] = np.int(coefa[c]*2**Exponent)        #Takes the Coeficients an multiplys it with 2**Exp then cuts the fract bits\n",
    "    coefa = coefa.astype(Type)\n",
    "    print(coefa)\n",
    "    for c in range(len(coefb)):\n",
    "        coefb[c] = int(coefb[c]*2**Exponent)        #Takes the Coeficients an multiplys it with 2**Exp then cuts the fract bits\n",
    "    coefb = coefb.astype(Type)\n",
    "    print(coefb)\n",
    "    return coefa,coefb\n",
    "########################################################################"
   ]
  },
  {
   "cell_type": "markdown",
   "metadata": {},
   "source": [
    "Change the Class from \"Module\" to \"Elaboratable\"<br>\n",
    "Copy and paste all the private variable definition stuff. <br>\n",
    "Change all \"Signal((self.wsize, True))\" to \"Signal(signed(self.wsize))\"\n",
    "Define the elaborate method <br>\n",
    "Inside the elaborate method define a Module with the name m <br>\n",
    "Copy and paste the rest of the filter from FIR_to_IIR.ipynb. <br>\n",
    "Change all \"Signal((self.wsize, True))\" to \"Signal(signed(self.wsize))\" <br>\n",
    "Change all \"self.sync\" to \"m.d.sync\" <br>\n",
    "Change all \"self.comb\" to \"m.d.comb\" <br>\n",
    "add a \"return m\" to return the module <br>\n",
    "\n"
   ]
  },
  {
   "cell_type": "code",
   "execution_count": 16,
   "metadata": {},
   "outputs": [],
   "source": [
    "class iir(Elaboratable):\n",
    "    def __init__(self, num,den, Exponent=16, wsize=32):     #num = coefa den = coefb\n",
    "        coefa[0] = 0\n",
    "        self.coefa = coefa\n",
    "        self.coefb = coefb\n",
    "        self.wsize = wsize\n",
    "        self.i = Signal(signed(self.wsize*2))\n",
    "        self.o = Signal(signed(self.wsize*2))\n",
    "        self.Exponent = Exponent\n",
    "\n",
    "        ###\n",
    "\n",
    "\n",
    "\n",
    "    def elaborate(self, platform):\n",
    "        m = Module()\n",
    "\n",
    "        mulsb = []\n",
    "        mulsa = []\n",
    "\n",
    "        sum_fulla = Signal(signed(self.wsize*4))\n",
    "        sum_fullb = Signal(signed(self.wsize*4))\n",
    "        sum_full = Signal(signed(self.wsize*4))\n",
    "\n",
    "        srcb = self.i\n",
    "\n",
    "        for c in self.coefb:\n",
    "            sregb = Signal(signed(self.wsize*2))      #Generate a new signal\n",
    "            m.d.sync += sregb.eq(srcb)             #sregb = srcb\n",
    "            srcb = sregb\n",
    "            mulsb.append(int(c)*sregb)\n",
    "        m.d.sync += sum_fullb.eq(reduce(add, mulsb))\n",
    "        m.d.sync += sum_full.eq((sum_fullb-sum_fulla)>>(self.Exponent))    #Both summations are devided by Exponent\n",
    "\n",
    "        srca = sum_full                           #the source is now the output\n",
    "\n",
    "        for c in self.coefa:                        #same as above just with another source\n",
    "            srega = Signal(signed(self.wsize*2))\n",
    "            m.d.sync += srega.eq(srca)\n",
    "            srca = srega\n",
    "            mulsa.append(int(c)*srega)\n",
    "\n",
    "        m.d.sync += sum_fulla.eq(reduce(add, mulsa))\n",
    "        m.d.comb += self.o.eq(sum_full)\n",
    "\n",
    "        return m"
   ]
  },
  {
   "cell_type": "markdown",
   "metadata": {},
   "source": [
    "Copy and paste the first part of the main function <br>\n",
    "Delete the whole iir_tb <br>\n",
    "Create a simulator called \"sim\" which takes over the function of the test_bench \"iir_tb\" <br>\n",
    "Like in the testbench the simulation creates a inputsignal, which is passed throug the filter. The input and the output of the filter are stored in two registers.<br>\n",
    "Add the clockspeed of the simulation as well as the process, defined inside the simulator. <br>\n",
    "Run the simulator with the command \"sim.run\"\n",
    "\n"
   ]
  },
  {
   "cell_type": "code",
   "execution_count": 17,
   "metadata": {},
   "outputs": [
    {
     "name": "stdout",
     "output_type": "stream",
     "text": [
      "coefa:\n",
      "[ 1.         -0.98699496]\n",
      "coefb:\n",
      "[0.00650252 0.00650252]\n",
      "Expmin = \n",
      " 8\n",
      "None\n",
      "Expmax = \n",
      " 15\n",
      "None\n",
      "[ 1.         -0.98699496] [0.00650252 0.00650252]\n",
      "[-32768 -32341]\n",
      "[213 213]\n"
     ]
    },
    {
     "name": "stderr",
     "output_type": "stream",
     "text": [
      "<ipython-input-17-35980a96ca15>:14: DeprecationWarning: instead of `with Simulator(fragment, ...) as sim:`, use `sim = Simulator(fragment); with sim.write_vcd(...):`\n",
      "  with Simulator(IIR) as sim:\n"
     ]
    },
    {
     "data": {
      "image/png": "[encoded data removed]",
      "text/plain": [
       "<Figure size 432x288 with 1 Axes>"
      ]
     },
     "metadata": {
      "needs_background": "light"
     },
     "output_type": "display_data"
    }
   ],
   "source": [
    "if __name__ == \"__main__\":\n",
    "    [coefb,coefa] = signal.iirfilter(n,w_c ,0,rs, btype=\"lowpass\", analog=False, ftype=\"butter\")\n",
    "    #[coefb,coefa] = sig.iirfilter(n,w_c ,0,rs, btype=\"lowpass\", analog=False, ftype=\"bessel\")\n",
    "    print(\"coefa:\")\n",
    "    print(coefa)\n",
    "    print(\"coefb:\")\n",
    "    print(coefb)\n",
    "    Expmin,Expmax = minExp(coefa,coefb,Type)\n",
    "    [coefa,coefb] = Multiplyer(coefa,coefb,Expmax)\n",
    "    IIR = iir(coefa,coefb,Expmax,wsize)\n",
    "    #crossover.plot()\n",
    "    #print(crossover.polynome())\n",
    "\n",
    "    with Simulator(IIR) as sim:\n",
    "    #sim = Simulator(crossover)\n",
    "        def process():\n",
    "            f = 2**wsize\n",
    "            input = chirp(t=numpy.linspace(0, 1, 4800), f0=1, f1=1000, t1=1, method='logarithmic',phi = 90)\n",
    "            plt.plot(input)\n",
    "            output = []\n",
    "            for i in input:\n",
    "                yield IIR.i.eq(int(i*f))\n",
    "                yield Tick()\n",
    "                output.append((yield IIR.o)/f)\n",
    "            plt.plot(output)\n",
    "            plt.show()\n",
    "\n",
    "        sim.add_clock(1/48000)\n",
    "        sim.add_process(process)\n",
    "        sim.run()"
   ]
  },
  {
   "cell_type": "markdown",
   "metadata": {},
   "source": [
    "# Next Step: Creating Verilog code\n",
    "TBD"
   ]
  },
  {
   "cell_type": "code",
   "execution_count": null,
   "metadata": {},
   "outputs": [],
   "source": []
  }
 ],
 "metadata": {
  "kernelspec": {
   "display_name": "Python 3",
   "language": "python",
   "name": "python3"
  },
  "language_info": {
   "codemirror_mode": {
    "name": "ipython",
    "version": 3
   },
   "file_extension": ".py",
   "mimetype": "text/x-python",
   "name": "python",
   "nbconvert_exporter": "python",
   "pygments_lexer": "ipython3",
   "version": "3.8.1"
  }
 },
 "nbformat": 4,
 "nbformat_minor": 4
}
