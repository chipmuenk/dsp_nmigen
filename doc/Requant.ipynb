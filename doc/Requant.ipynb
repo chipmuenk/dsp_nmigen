{
 "cells": [
  {
   "cell_type": "markdown",
   "metadata": {},
   "source": [
    "# Fixpoint Quantization and Overflow #\n",
    "This notebook shows how number can be represented in binary format and how to (re-)quantize signals. This is also shown practically in Python using ``pyfda_fix_lib`` (numpy based)."
   ]
  },
  {
   "cell_type": "code",
   "execution_count": null,
   "metadata": {},
   "outputs": [],
   "source": [
    "import os, sys\n",
    "import time\n",
    "\n",
    "module_path = os.path.abspath(os.path.join('..')) # append directory one level up to import path\n",
    "if module_path not in sys.path:  # ... if it hasn't been appended already\n",
    "    sys.path.append(module_path)\n",
    "\n",
    "import dsp_nmigen.pyfda_fix_lib as fx\n",
    "%matplotlib inline    \n",
    "\n",
    "import matplotlib.pyplot as plt\n",
    "\n",
    "plt.style.use('script.mplstyle')\n",
    "import numpy as np\n",
    "import scipy.signal as sig\n",
    "\n",
    "figsize = {\"figsize\":(13,7)}"
   ]
  },
  {
   "cell_type": "markdown",
   "metadata": {},
   "source": [
    "## Theory ##\n",
    "\n",
    "Unsigned integers are \n",
    "The next figure shows how signed integer numbers are represented in two's complement format. The MSB is the sign bit which can be interpreted as the negative value $-2^{W-1}$.\n",
    "<figure>\n",
    "    <center>\n",
    "    <img src='img/twos_complement_signed_int.png' alt='Signed integers in twos complement' width='50%'/>\n",
    "    <figcaption><b>Fig. x:</b> Signed integers in twos complement</figcaption>\n",
    "    </center>\n",
    "</figure>\n",
    "\n",
    "The same is possible for signed fractional values, although it is important to realize that the *binary point only exists in the developer's head*!  All arithmetic stuff can be implemented with \"integer thinking\" (and some designers just do that). IMHO, thinking in fractional numbers makes it easier to track the real world value and to separate the range and the resolution.\n",
    " \n",
    "<figure>\n",
    "    <center>\n",
    "    <img src='img/twos_complement_signed_frac.png' alt='Signed fractional values in twos complement' width='60%'/> \n",
    "    <figcaption><b>Fig. x:</b> Signed fractional values in twos complement</figcaption>\n",
    "   </center>\n",
    " </figure>\n"
   ]
  },
  {
   "cell_type": "markdown",
   "metadata": {},
   "source": [
    "### Increasing the wordlength\n",
    "\n",
    "Before adding two fixpoint numbers their binary points need to be aligned, i.e. they need to have the same number of integer and fractional bits. This can be achieved by extending integer and / or fractional part. \n",
    "\n",
    "The value of a fixpoint number doesn't change when zeros are appended to the fractional part (for positive and negative numbers) so that part is easy. \n",
    "\n",
    "Prepending zeros to the integer part would change the sign of a negative number. Instead, the integer part is extended with copies of the sign bit, also called **sign extension**. VHDL has the function ``SEXT(std_log_vect, int)`` for achieving this.\n",
    "\n",
    "<img src=\"img/requant_extension.png\" alt=\"Extnd integer and fractional part\" width=\"40%\"/> "
   ]
  },
  {
   "cell_type": "markdown",
   "metadata": {},
   "source": [
    "### Reduce the number of fractional bits\n",
    "\n",
    "The problem of reducing the number of fractional places is well known from the decimal system. Different methods have been developed to achieve this like rounding, truncation, see e.g. https://www.eetimes.com/an-introduction-to-different-rounding-algorithms for more details than you'll ever need.\n",
    " \n",
    "<figure>\n",
    "    <img src='img/requant_reduce_fractional.png' alt='Reduce fractional word length' width='80%'/>\n",
    "    <figcaption>Fig. x: Reduction of fractional wordlength</figcaption>\n",
    "</figure>"
   ]
  },
  {
   "cell_type": "markdown",
   "metadata": {},
   "source": [
    "## pyfda_fix_lib\n",
    "\n",
    "This section uses and describes the fixpoint library `pyfda_fix_lib.py`. A quantizer is constructed as an instance of the class `Fixed()`, its properties are configured with a quantization dict `Q = fx.Fixed(q_dict)`. The quantization dict (in this case `q_dict`) sets the format `QI.QF` at the output of the quantizer and its quantization and overflow behaviour with the following keys:\n",
    "\n",
    "- **'WI'**   : number of integer bits (integer)\n",
    "- **'WF'**   : number of fractional bits (integer)\n",
    "- **'quant'**: requantization behaviour (**'floor'**, 'round', 'fix', 'ceil', 'rint', 'none')\n",
    "- **'ovfl'** : overflow behaviour (**'wrap'**, 'sat', 'none')\n",
    "- **'frmt'** : number base / format for output (**'float'**, 'dec', 'bin', 'hex', 'csd'). Non-floats are scaled with 'scale'\n",
    "- **'scale'**: float or a keyword; the factor between the fixpoint integer representation (FXP) and the real world value (RWV), RWV = FXP / scale. By default, scale = 1 << WI.  If ``scale`` is a float, this value is used. \n",
    "\n",
    "     **Examples:**\n",
    "    \n",
    "     ```\n",
    "     WI.WF = 3.0, FXP = \"b0110.\" = 6,   scale = 8 -> RWV = 6 / 8   = 0.75\n",
    "     WI.WF = 1.2, FXP = \"b01.10\" = 1.5, scale = 2 -> RWV = 1.5 / 2 = 0.75\n",
    "     ```\n",
    "     \n",
    "     Alternatively, if:\n",
    "\n",
    "     - ``q_obj['scale'] == 'int'``:   `scale = 1 << self.WF`\n",
    "\n",
    "     - ``q_obj['scale'] == 'norm'``:  `scale = 2.**(-self.WI)`      \n",
    "\n",
    "\n",
    "`?fx.Fixed` shows the available options.\n",
    "\n",
    "### Example\n",
    "In the following example a quantizer is defined with an output format of 0 integer bits and 3 fractional bits, overflows are wrapped around in two's complement style and additional fractional bits are simply truncated (\"floor\")."
   ]
  },
  {
   "cell_type": "code",
   "execution_count": null,
   "metadata": {},
   "outputs": [],
   "source": [
    "q_dict = {'WI':0, 'WF': 3,                 # number of integer and fractional bits\n",
    "          'quant':'floor', 'ovfl': 'wrap'} # quantization and overflow behaviour\n",
    "Q = fx.Fixed(q_dict)                       # instance of fixpoint class Fixed()\n",
    "for i in np.arange(12)/10:                 # i = 0, 0.1, 0.2, ...\n",
    "    print(\"q<{0:>3.2f}> = {1:>5.3f}\".format(i, Q.fixp(i))) # quantize i\n",
    "# uncomment to show documentation\n",
    "# ?fx.Fixed "
   ]
  },
  {
   "cell_type": "markdown",
   "metadata": {},
   "source": [
    "### Signal Quantization\n",
    "A sine signal $s(t)$ is quantized in the code below. The plot shows $s(t)$, the quantized signal $s_Q(t)$ the difference between both signals, the quantization error $\\epsilon(t)$."
   ]
  },
  {
   "cell_type": "code",
   "execution_count": null,
   "metadata": {},
   "outputs": [],
   "source": [
    "N = 10000; f_a = 1\n",
    "t = np.linspace(0, 1, N, endpoint=False)\n",
    "s = 1.1 * np.sin(2 * np.pi * f_a * t)\n",
    "#\n",
    "q_dict = {'WI':0, 'WF': 4, 'quant':'fix', 'ovfl': 'wrap'} # also try 'round' ; 'sat'\n",
    "Q = fx.Fixed(q_dict) # quantizer instance with parameters defined above\n",
    "\n",
    "t_cpu = time.perf_counter()\n",
    "\n",
    "sq = Q.fixp(s) # quantize s\n",
    "print('Overflows:\\t{0}'.format(Q.N_over))\n",
    "print('Run time:\\t{0:.3g} ms for {1} quantizations\\n'.format((time.perf_counter()-t_cpu)*1000, Q.N))\n",
    "#\n",
    "fig1, ax1 = plt.subplots(**figsize)\n",
    "ax1.set_title('Quantized Signal $s_Q$({0}.{1}) with Quantizer Settings \"{2}\", \"{3}\"'.format(Q.WI, Q.WF, Q.ovfl, Q.quant))\n",
    "ax1.plot(t, s, label = r'$s(t)$', lw=2)\n",
    "ax1.step(t, sq, where = 'post', label = r'$s_Q(t)$', lw=2)\n",
    "ax1.plot(t, s-sq, label = r'$\\epsilon(t) = s(t) - s_Q(t)$', lw=2)\n",
    "ax1.legend(fontsize = 14)\n",
    "ax1.grid(True)\n",
    "ax1.set_xlabel(r'$t \\rightarrow$'); ax1.set_ylabel(r'$s \\rightarrow$');\n",
    "#"
   ]
  },
  {
   "cell_type": "markdown",
   "metadata": {},
   "source": [
    "### Transfer Function of the Quantizer\n",
    "The transfer function of the quantizer shows the quantized signal $s_Q(t)$ over the input signal $s(t)$ (a ramp). The advantage ove reusing the sine from the previous cell is that the input range can be taylored more easily and that the step size is constant."
   ]
  },
  {
   "cell_type": "code",
   "execution_count": null,
   "metadata": {},
   "outputs": [],
   "source": [
    "Q.resetN()    # reset overflow counter\n",
    "x = np.linspace(-2, 2, N, endpoint=False) # generate ramp signal\n",
    "xq = Q.fixp(x) # quantize x\n",
    "print('Overflows:\\t{0}'.format(Q.N_over))\n",
    "fig2, ax2 = plt.subplots(**figsize); ax2.grid(True)\n",
    "ax2.set_title('Quantization Transfer Function')\n",
    "ax2.step(x,xq, where = 'post')\n",
    "ax2.set_xlabel(r'$x \\rightarrow$'); ax2.set_ylabel(r'$x_Q \\rightarrow$');"
   ]
  },
  {
   "cell_type": "markdown",
   "metadata": {},
   "source": [
    "### Number bases and formats\n",
    "Quantized values can be printed in different number bases, e.g. as a binary string:"
   ]
  },
  {
   "cell_type": "code",
   "execution_count": null,
   "metadata": {},
   "outputs": [],
   "source": [
    "q_dict_f = {'WI':0, 'WF': 8,               # number of ingeger and fractional bits\n",
    "          'quant':'floor', 'ovfl': 'wrap', # quantization and overflow behaviour\n",
    "          'frmt':'bin'}                    # output format\n",
    "Q1 = fx.Fixed(q_dict_f)                    # instance of fixpoint class Fixed()\n",
    "for i in np.arange(12)/10:                 # i = 0, 0.1, 0.2, ...\n",
    "    print(\"q<{0:>3.2f}> = {1}\".format(i, Q1.float2frmt(Q1.fixp(i)))) # quantize i + display it in the wanted format"
   ]
  },
  {
   "cell_type": "markdown",
   "metadata": {},
   "source": [
    "### Format Conversion\n",
    "Numbers can also be converted back to floating with the method `frmt2float()`:"
   ]
  },
  {
   "cell_type": "code",
   "execution_count": null,
   "metadata": {},
   "outputs": [],
   "source": [
    "Q0 = fx.Fixed({'Q':'3.8', 'quant':'round', 'ovfl':'wrap', 'frmt':'bin'}) # direct setting of quantization options, use 'Q' instead of \n",
    "Q1_dict = Q0.q_obj        # read out Q0 quantization dict\n",
    "Q1_dict.update({'WI':1, 'WF':5})  # update dict\n",
    "Q1 = fx.Fixed(Q1_dict)    # and create a new quantizer instance with it      \n",
    "frmt_str = \"0.011\"\n",
    "x_org = Q0.frmt2float(frmt_str)\n",
    "x_q = Q1.frmt2float(frmt_str)\n",
    "print(\"q<b{0}> = {1} -> b{2} = {3}\".format(frmt_str, x_org, Q1.float2frmt(x_q), x_q))"
   ]
  },
  {
   "cell_type": "markdown",
   "metadata": {},
   "source": [
    "Bug ?: Illegal characters in the string to be formatted (e.g. frmt2float(\"0.0x11\") do not raise an error but are ignored."
   ]
  },
  {
   "cell_type": "markdown",
   "metadata": {},
   "source": [
    "## FIR Filters\n",
    "\n",
    "The following cell designs an equiripple filter and plots its impulse response (same as the coefficients) and its magnitude frequency response."
   ]
  },
  {
   "cell_type": "code",
   "execution_count": null,
   "metadata": {},
   "outputs": [],
   "source": [
    "numtaps = 50\n",
    "b = sig.remez(numtaps,[0,0.1,0.12, 0.5], [1,0], [1,1]) # frequency bands, target amplitude, weights\n",
    "w, h = sig.freqz(b, [1], worN=2000)\n",
    "fig, (ax1, ax2) = plt.subplots(2, **figsize); ax1.grid(True); ax2.grid(True)\n",
    "ax1.set_title('Equiripple Lowpass (FIR) Filter')\n",
    "ax1.stem(np.arange(numtaps), b, use_line_collection=True)\n",
    "ax1.set_xlabel(r'$n \\rightarrow$'); ax1.set_ylabel(r'$b_n = h[n] \\rightarrow$')\n",
    "ax2.plot(w / (2*np.pi),np.abs(h))\n",
    "ax2.set_xlabel(r'$F \\rightarrow$'); ax2.set_ylabel(r'$|H(F)| \\rightarrow$')\n",
    "fig.set_tight_layout(True)"
   ]
  },
  {
   "cell_type": "markdown",
   "metadata": {},
   "source": [
    "<figure>\n",
    "     <center>\n",
    "    <img src='img/fir_df.png' alt='Direct Form FIR Filter' width='20%'/>\n",
    "    <figcaption><b>Fig. x:</b> Direct Form FIR Filter</figcaption>\n",
    " </center>\n",
    "</figure>\n",
    "\n",
    "Fig xx shows the topology of a direct form FIR filter."
   ]
  },
  {
   "cell_type": "markdown",
   "metadata": {},
   "source": [
    "## IIR Filters\n",
    "Unlike FIR filters, IIR filters cannot be implemented with the same elegance and efficiency of array mathematics as each sample depends on the output sample as well. The following code cell designs an elliptic low pass filter and plots its magnitude frequency response."
   ]
  },
  {
   "cell_type": "code",
   "execution_count": null,
   "metadata": {},
   "outputs": [],
   "source": [
    "b,a = sig.ellip(4,1,40, 2*0.1) # order, pass band ripple, stop band ripple, corner frequency w.r.t. f_S/2\n",
    "w, h = sig.freqz(b,a, worN=2000)\n",
    "fig, ax = plt.subplots(1, **figsize); ax.grid(True)\n",
    "ax.set_title('Elliptic Lowpass (IIR) Filter')\n",
    "ax.plot(w / (2*np.pi),20*np.log10(np.abs(h)))\n",
    "ax.set_xlabel(r'$F \\rightarrow$'); ax.set_ylabel(r'$|H(F)| \\rightarrow$')\n",
    "print(\"b=\", b)\n",
    "print(\"a=\", a)"
   ]
  },
  {
   "cell_type": "markdown",
   "metadata": {},
   "source": [
    "<figure>\n",
    "     <center>\n",
    "    <img src='img/iir_df1_df2.png' alt='Direct Form IIR Filter' width='50%'/>\n",
    "    <figcaption><b>Fig. x:</b> Direct Form FIR Filter Type 1 and 2</figcaption>\n",
    " </center>\n",
    "</figure>\n",
    "\n",
    "The following two examples show how to implement the most simple recursive filters (no transversal path, i.e. \"all-pole filters\")."
   ]
  },
  {
   "cell_type": "code",
   "execution_count": null,
   "metadata": {},
   "outputs": [],
   "source": [
    "def IIR1(Q_ACCU, x, a):\n",
    "    \"\"\"\n",
    "    Rekursives Filter mit y[i] = Q< x[i-1] + a y[i-1] >\n",
    "    \"\"\"\n",
    "    y = np.zeros(len(x))\n",
    "    for i in range(0,len(x)-1):\n",
    "        y[i+1] = Q_ACCU.fixp(x[i] + a * y[i])\n",
    "    return y\n",
    "    \n",
    "def IIR2(Q_ACCU, x, a):\n",
    "    \"\"\"\n",
    "    Rekursives Filter mit y[i] = Q< x[i-2] + y[i-1] - a y[i-2] >\n",
    "    \"\"\"\n",
    "    y = np.zeros(len(x))\n",
    "    for i in range(len(x)-2):\n",
    "        y[i+2] = Q_ACCU.fixp(x[i] + y[i+1] - y[i]*a)\n",
    "    return y"
   ]
  },
  {
   "cell_type": "code",
   "execution_count": null,
   "metadata": {},
   "outputs": [],
   "source": [
    "alpha = 0.93 # coefficient\n",
    "N_sim = 200 # number of simulation steps\n",
    "x = np.zeros(N_sim); x[0] = 1.0 # x is dirac pulse with weight 1\n",
    " \n",
    "q_x = {'WI':0,'WF':3,'quant':'round','ovfl':'sat'} # fixpoint quantization for stimulus\n",
    "q_coeff = {'WI':0,'WF':3,'quant':'round','ovfl':'wrap'} # coefficient quantization dict\n",
    "# quantizer settings for accumulator\n",
    "#q_accu = {'WI':0,'WF':4,'quant':'fix','ovfl':'sat'} # saturation and round towards zero -> no limit cycles\n",
    "q_accu = {'Q':0.8,'quant':'floor','ovfl':'wrap'}  # große Grenzzyklen bei QI = 0\n",
    "# kleine Grenzzyklen mit round / floor, abhängig von alpha:\n",
    "# q_accu = {'WI':0,'WF':4,'quant':'floor','ovfl':'wrap'} \n",
    "\n",
    "# Keine Quantisierung ->  Werte für I, F beliebig\n",
    "q_ideal = {'WI':0,'WF':0,'quant':'none','ovfl':'none'}\n",
    "\n",
    "Q_coeff = fx.Fixed(q_coeff) # Fixpoint Object mit Parametern \"q_coeff\"\n",
    "\n",
    "Q_ideal = fx.Fixed(q_ideal) # Fixpoint-Objekt ohne Quantisierung und Overflow \n",
    "Q_accu = fx.Fixed(q_accu) # Fixpoint-Objekt mit Parametern \"q_accu\"\n",
    "\n",
    "n = np.arange(N_sim)\n",
    "t1 = time.perf_counter()\n",
    "alpha_q = Q_ideal.fixp(alpha)\n",
    "\n",
    "y = IIR1(Q_ideal, x, alpha_q) # ohne Quantisierung\n",
    "#yq = IIR2(fx_IIR, x, alpha_q)\n",
    "yq = IIR1(Q_accu, x, alpha_q)\n",
    "\n"
   ]
  },
  {
   "cell_type": "markdown",
   "metadata": {},
   "source": [
    "***\n",
    "### Copyright\n",
    "\n",
    "(c) 2016 - 2020 Christian Münker \n",
    "\n",
    "This notebook is provided as [Open Educational Resource](https://en.wikipedia.org/wiki/Open_educational_resources) , feel free to use it for your own purposes. Please attribute the work as follows: *Christian Münker, dsp_migen documentation*."
   ]
  },
  {
   "cell_type": "code",
   "execution_count": null,
   "metadata": {},
   "outputs": [],
   "source": []
  }
 ],
 "metadata": {
  "anaconda-cloud": {},
  "kernelspec": {
   "display_name": "Python 3",
   "language": "python",
   "name": "python3"
  },
  "language_info": {
   "codemirror_mode": {
    "name": "ipython",
    "version": 3
   },
   "file_extension": ".py",
   "mimetype": "text/x-python",
   "name": "python",
   "nbconvert_exporter": "python",
   "pygments_lexer": "ipython3",
   "version": "3.7.4"
  }
 },
 "nbformat": 4,
 "nbformat_minor": 4
}
